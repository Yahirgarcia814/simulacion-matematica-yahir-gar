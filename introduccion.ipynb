{
 "cells": [
  {
   "cell_type": "markdown",
   "id": "90f35b87-fd2a-4ad6-bf8f-a054a203ac4f",
   "metadata": {},
   "source": [
    "# simulacion matematica\n",
    "\n",
    "texto\n",
    "\n",
    "# otro titulo\n",
    "\n",
    "texto"
   ]
  },
  {
   "cell_type": "code",
   "execution_count": 2,
   "id": "bc7df7e1-473c-4ea9-9910-f6f3ab82df89",
   "metadata": {},
   "outputs": [
    {
     "data": {
      "text/plain": [
       "2"
      ]
     },
     "execution_count": 2,
     "metadata": {},
     "output_type": "execute_result"
    }
   ],
   "source": [
    "1 + 1"
   ]
  },
  {
   "cell_type": "markdown",
   "id": "b485b6a5-11c6-4f00-9912-ccc1b761dff7",
   "metadata": {},
   "source": [
    "# tipos de cholate\n",
    "\n",
    "en este reporte vamos a hablar de lo importante que fue el chocolate en la cultura maya \n",
    "\n",
    "# calificacion de chocolates de acuerdo al grupo\n",
    "* blanco\n",
    "    * sublista1\n",
    "    * sublista2\n",
    "* negro\n",
    "* con leche\n",
    "* con almendra\n",
    "* confitado"
   ]
  },
  {
   "cell_type": "code",
   "execution_count": null,
   "id": "7b889ac2-556b-4a81-84b0-a0738955bfaf",
   "metadata": {},
   "outputs": [],
   "source": []
  }
 ],
 "metadata": {
  "kernelspec": {
   "display_name": "Python 3 (ipykernel)",
   "language": "python",
   "name": "python3"
  },
  "language_info": {
   "codemirror_mode": {
    "name": "ipython",
    "version": 3
   },
   "file_extension": ".py",
   "mimetype": "text/x-python",
   "name": "python",
   "nbconvert_exporter": "python",
   "pygments_lexer": "ipython3",
   "version": "3.12.4"
  }
 },
 "nbformat": 4,
 "nbformat_minor": 5
}
